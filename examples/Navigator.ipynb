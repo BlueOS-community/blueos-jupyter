{
 "cells": [
  {
   "cell_type": "markdown",
   "id": "1a37c0c6-1f3d-4f9e-a084-87623c132ae1",
   "metadata": {},
   "source": [
    "# 🐍 Welcome to the Navigator Playground for Python! 🚀\n",
    "\n",
    "In this interactive guide, you're about to embark on an exciting journey to explore the world of Python programming with Navigator. Buckle up and let's dive in!\n",
    "\n",
    "## What You'll Learn\n",
    "\n",
    "With this guide, you will learn how to:\n",
    "\n",
    "- 🌟 Initiate your board\n",
    "- 🌡️ Read data from sensors\n",
    "- ⚙️ Command thrusters, LEDs and other PWM devices\n",
    "\n",
    "Prepare to be amazed as you bring your ideas to life through the power of Python!\n",
    "\n",
    "## Let's Get Started\n",
    "\n",
    "Before we launch into the coding adventures, let's set up the environment and get everything ready. Follow these steps:\n",
    "\n",
    "1. 📦 Install Python and required packages. ( We already did it in this extension! )\n",
    "2. 🚀 Connect your Navigator board. \n",
    "3. 🌐 Access the interactive JupyterLab environment OR a python instance directly. ( We are here! Let's start! )\n",
    "\n",
    "Now we're all set to start coding and experimenting. 🎉"
   ]
  },
  {
   "cell_type": "markdown",
   "id": "dfe531af-6c42-4077-ab3a-98a81c2b2b39",
   "metadata": {
    "scrolled": true
   },
   "source": [
    "## Example: Reading Sensor Data\n",
    "\n",
    "Let's dive right into an example. \n",
    "\n",
    "Your Navigator board comes already capable to measure a lot of cool sensors! Using Python, you can easily read data from it.\n",
    "\n",
    "Here is our first example:\n",
    "\n",
    "Tip: You can run using shift+enter"
   ]
  },
  {
   "cell_type": "code",
   "execution_count": 16,
   "id": "badf012b-d7be-479b-b915-cecedad0eb94",
   "metadata": {},
   "outputs": [
    {
     "name": "stdout",
     "output_type": "stream",
     "text": [
      "Magnetometer Data:\n",
      "  X-axis: 4.05\n",
      "  Y-axis: 2.40\n",
      "  Z-axis: 30.30\n",
      "\n",
      "Accelerometer Data:\n",
      "  X-axis: 0.08\n",
      "  Y-axis: -0.38\n",
      "  Z-axis: 9.79\n",
      "\n",
      "Gyroscope Data:\n",
      "  X-axis: -0.00\n",
      "  Y-axis: -0.02\n",
      "  Z-axis: 0.00\n"
     ]
    }
   ],
   "source": [
    "import bluerobotics_navigator as navigator\n",
    "\n",
    "# Initialize the Navigator's sensors with factory defaults\n",
    "navigator.init()\n",
    "\n",
    "magnetometer_data = navigator.read_mag()\n",
    "\n",
    "accelerometer_data = navigator.read_accel()\n",
    "\n",
    "gyroscope_data = navigator.read_gyro()\n",
    "\n",
    "print(\"Magnetometer Data:\")\n",
    "print(f\"  X-axis: {magnetometer_data.x:.2f}\")\n",
    "print(f\"  Y-axis: {magnetometer_data.y:.2f}\")\n",
    "print(f\"  Z-axis: {magnetometer_data.z:.2f}\")\n",
    "\n",
    "print(\"\\nAccelerometer Data:\")\n",
    "print(f\"  X-axis: {accelerometer_data.x:.2f}\")\n",
    "print(f\"  Y-axis: {accelerometer_data.y:.2f}\")\n",
    "print(f\"  Z-axis: {accelerometer_data.z:.2f}\")\n",
    "\n",
    "print(\"\\nGyroscope Data:\")\n",
    "print(f\"  X-axis: {gyroscope_data.x:.2f}\")\n",
    "print(f\"  Y-axis: {gyroscope_data.y:.2f}\")\n",
    "print(f\"  Z-axis: {gyroscope_data.z:.2f}\")"
   ]
  },
  {
   "cell_type": "markdown",
   "id": "4645258a-2d69-4067-9875-090cf922b8f7",
   "metadata": {},
   "source": [
    "## Example: Plotting Sensor Data\n",
    "\n",
    "Now let's dive deeper, and plot this data. \n",
    "\n",
    "Please, run the next script!"
   ]
  },
  {
   "cell_type": "code",
   "execution_count": 17,
   "id": "1fc05f7f-37d0-42a6-a90c-0abbaea5087e",
   "metadata": {},
   "outputs": [
    {
     "data": {
      "application/vnd.plotly.v1+json": {
       "config": {
        "plotlyServerURL": "https://plot.ly"
       },
       "data": [
        {
         "mode": "lines+markers",
         "name": "Accelerometer X",
         "type": "scatter",
         "x": [
          1691613320.047814,
          1691613321.1044433,
          1691613322.1562173,
          1691613323.2046816,
          1691613324.2532108,
          1691613325.303347,
          1691613326.3578448,
          1691613327.4784346,
          1691613328.5283515,
          1691613329.5766795
         ],
         "y": [
          0.06943432986736298,
          0.05028003081679344,
          -0.10774292051792145,
          -0.10295435041189194,
          -0.8427890539169312,
          -9.402365684509277,
          0.0790114775300026,
          0.09577148407697678,
          0.13408008217811584,
          0.10774292051792145
         ]
        },
        {
         "mode": "lines+markers",
         "name": "Accelerometer Y",
         "type": "scatter",
         "x": [
          1691613320.047814,
          1691613321.1044433,
          1691613322.1562173,
          1691613323.2046816,
          1691613324.2532108,
          1691613325.303347,
          1691613326.3578448,
          1691613327.4784346,
          1691613328.5283515,
          1691613329.5766795
         ],
         "y": [
          -0.42857739329338074,
          -0.36393165588378906,
          8.418313980102539,
          9.91953182220459,
          -0.4764631390571594,
          0.8930690884590149,
          -0.4357602596282959,
          -0.4309716820716858,
          -0.4573088586330414,
          -0.44294312596321106
         ]
        },
        {
         "mode": "lines+markers",
         "name": "Accelerometer Z",
         "type": "scatter",
         "x": [
          1691613320.047814,
          1691613321.1044433,
          1691613322.1562173,
          1691613323.2046816,
          1691613324.2532108,
          1691613325.303347,
          1691613326.3578448,
          1691613327.4784346,
          1691613328.5283515,
          1691613329.5766795
         ],
         "y": [
          9.78305721282959,
          9.857279777526855,
          5.016031742095947,
          0.5411089062690735,
          10.158960342407227,
          2.461327075958252,
          9.780662536621094,
          9.754325866699219,
          9.775874137878418,
          9.795028686523438
         ]
        }
       ],
       "layout": {
        "autosize": true,
        "template": {
         "data": {
          "bar": [
           {
            "error_x": {
             "color": "#2a3f5f"
            },
            "error_y": {
             "color": "#2a3f5f"
            },
            "marker": {
             "line": {
              "color": "#E5ECF6",
              "width": 0.5
             },
             "pattern": {
              "fillmode": "overlay",
              "size": 10,
              "solidity": 0.2
             }
            },
            "type": "bar"
           }
          ],
          "barpolar": [
           {
            "marker": {
             "line": {
              "color": "#E5ECF6",
              "width": 0.5
             },
             "pattern": {
              "fillmode": "overlay",
              "size": 10,
              "solidity": 0.2
             }
            },
            "type": "barpolar"
           }
          ],
          "carpet": [
           {
            "aaxis": {
             "endlinecolor": "#2a3f5f",
             "gridcolor": "white",
             "linecolor": "white",
             "minorgridcolor": "white",
             "startlinecolor": "#2a3f5f"
            },
            "baxis": {
             "endlinecolor": "#2a3f5f",
             "gridcolor": "white",
             "linecolor": "white",
             "minorgridcolor": "white",
             "startlinecolor": "#2a3f5f"
            },
            "type": "carpet"
           }
          ],
          "choropleth": [
           {
            "colorbar": {
             "outlinewidth": 0,
             "ticks": ""
            },
            "type": "choropleth"
           }
          ],
          "contour": [
           {
            "colorbar": {
             "outlinewidth": 0,
             "ticks": ""
            },
            "colorscale": [
             [
              0,
              "#0d0887"
             ],
             [
              0.1111111111111111,
              "#46039f"
             ],
             [
              0.2222222222222222,
              "#7201a8"
             ],
             [
              0.3333333333333333,
              "#9c179e"
             ],
             [
              0.4444444444444444,
              "#bd3786"
             ],
             [
              0.5555555555555556,
              "#d8576b"
             ],
             [
              0.6666666666666666,
              "#ed7953"
             ],
             [
              0.7777777777777778,
              "#fb9f3a"
             ],
             [
              0.8888888888888888,
              "#fdca26"
             ],
             [
              1,
              "#f0f921"
             ]
            ],
            "type": "contour"
           }
          ],
          "contourcarpet": [
           {
            "colorbar": {
             "outlinewidth": 0,
             "ticks": ""
            },
            "type": "contourcarpet"
           }
          ],
          "heatmap": [
           {
            "colorbar": {
             "outlinewidth": 0,
             "ticks": ""
            },
            "colorscale": [
             [
              0,
              "#0d0887"
             ],
             [
              0.1111111111111111,
              "#46039f"
             ],
             [
              0.2222222222222222,
              "#7201a8"
             ],
             [
              0.3333333333333333,
              "#9c179e"
             ],
             [
              0.4444444444444444,
              "#bd3786"
             ],
             [
              0.5555555555555556,
              "#d8576b"
             ],
             [
              0.6666666666666666,
              "#ed7953"
             ],
             [
              0.7777777777777778,
              "#fb9f3a"
             ],
             [
              0.8888888888888888,
              "#fdca26"
             ],
             [
              1,
              "#f0f921"
             ]
            ],
            "type": "heatmap"
           }
          ],
          "heatmapgl": [
           {
            "colorbar": {
             "outlinewidth": 0,
             "ticks": ""
            },
            "colorscale": [
             [
              0,
              "#0d0887"
             ],
             [
              0.1111111111111111,
              "#46039f"
             ],
             [
              0.2222222222222222,
              "#7201a8"
             ],
             [
              0.3333333333333333,
              "#9c179e"
             ],
             [
              0.4444444444444444,
              "#bd3786"
             ],
             [
              0.5555555555555556,
              "#d8576b"
             ],
             [
              0.6666666666666666,
              "#ed7953"
             ],
             [
              0.7777777777777778,
              "#fb9f3a"
             ],
             [
              0.8888888888888888,
              "#fdca26"
             ],
             [
              1,
              "#f0f921"
             ]
            ],
            "type": "heatmapgl"
           }
          ],
          "histogram": [
           {
            "marker": {
             "pattern": {
              "fillmode": "overlay",
              "size": 10,
              "solidity": 0.2
             }
            },
            "type": "histogram"
           }
          ],
          "histogram2d": [
           {
            "colorbar": {
             "outlinewidth": 0,
             "ticks": ""
            },
            "colorscale": [
             [
              0,
              "#0d0887"
             ],
             [
              0.1111111111111111,
              "#46039f"
             ],
             [
              0.2222222222222222,
              "#7201a8"
             ],
             [
              0.3333333333333333,
              "#9c179e"
             ],
             [
              0.4444444444444444,
              "#bd3786"
             ],
             [
              0.5555555555555556,
              "#d8576b"
             ],
             [
              0.6666666666666666,
              "#ed7953"
             ],
             [
              0.7777777777777778,
              "#fb9f3a"
             ],
             [
              0.8888888888888888,
              "#fdca26"
             ],
             [
              1,
              "#f0f921"
             ]
            ],
            "type": "histogram2d"
           }
          ],
          "histogram2dcontour": [
           {
            "colorbar": {
             "outlinewidth": 0,
             "ticks": ""
            },
            "colorscale": [
             [
              0,
              "#0d0887"
             ],
             [
              0.1111111111111111,
              "#46039f"
             ],
             [
              0.2222222222222222,
              "#7201a8"
             ],
             [
              0.3333333333333333,
              "#9c179e"
             ],
             [
              0.4444444444444444,
              "#bd3786"
             ],
             [
              0.5555555555555556,
              "#d8576b"
             ],
             [
              0.6666666666666666,
              "#ed7953"
             ],
             [
              0.7777777777777778,
              "#fb9f3a"
             ],
             [
              0.8888888888888888,
              "#fdca26"
             ],
             [
              1,
              "#f0f921"
             ]
            ],
            "type": "histogram2dcontour"
           }
          ],
          "mesh3d": [
           {
            "colorbar": {
             "outlinewidth": 0,
             "ticks": ""
            },
            "type": "mesh3d"
           }
          ],
          "parcoords": [
           {
            "line": {
             "colorbar": {
              "outlinewidth": 0,
              "ticks": ""
             }
            },
            "type": "parcoords"
           }
          ],
          "pie": [
           {
            "automargin": true,
            "type": "pie"
           }
          ],
          "scatter": [
           {
            "fillpattern": {
             "fillmode": "overlay",
             "size": 10,
             "solidity": 0.2
            },
            "type": "scatter"
           }
          ],
          "scatter3d": [
           {
            "line": {
             "colorbar": {
              "outlinewidth": 0,
              "ticks": ""
             }
            },
            "marker": {
             "colorbar": {
              "outlinewidth": 0,
              "ticks": ""
             }
            },
            "type": "scatter3d"
           }
          ],
          "scattercarpet": [
           {
            "marker": {
             "colorbar": {
              "outlinewidth": 0,
              "ticks": ""
             }
            },
            "type": "scattercarpet"
           }
          ],
          "scattergeo": [
           {
            "marker": {
             "colorbar": {
              "outlinewidth": 0,
              "ticks": ""
             }
            },
            "type": "scattergeo"
           }
          ],
          "scattergl": [
           {
            "marker": {
             "colorbar": {
              "outlinewidth": 0,
              "ticks": ""
             }
            },
            "type": "scattergl"
           }
          ],
          "scattermapbox": [
           {
            "marker": {
             "colorbar": {
              "outlinewidth": 0,
              "ticks": ""
             }
            },
            "type": "scattermapbox"
           }
          ],
          "scatterpolar": [
           {
            "marker": {
             "colorbar": {
              "outlinewidth": 0,
              "ticks": ""
             }
            },
            "type": "scatterpolar"
           }
          ],
          "scatterpolargl": [
           {
            "marker": {
             "colorbar": {
              "outlinewidth": 0,
              "ticks": ""
             }
            },
            "type": "scatterpolargl"
           }
          ],
          "scatterternary": [
           {
            "marker": {
             "colorbar": {
              "outlinewidth": 0,
              "ticks": ""
             }
            },
            "type": "scatterternary"
           }
          ],
          "surface": [
           {
            "colorbar": {
             "outlinewidth": 0,
             "ticks": ""
            },
            "colorscale": [
             [
              0,
              "#0d0887"
             ],
             [
              0.1111111111111111,
              "#46039f"
             ],
             [
              0.2222222222222222,
              "#7201a8"
             ],
             [
              0.3333333333333333,
              "#9c179e"
             ],
             [
              0.4444444444444444,
              "#bd3786"
             ],
             [
              0.5555555555555556,
              "#d8576b"
             ],
             [
              0.6666666666666666,
              "#ed7953"
             ],
             [
              0.7777777777777778,
              "#fb9f3a"
             ],
             [
              0.8888888888888888,
              "#fdca26"
             ],
             [
              1,
              "#f0f921"
             ]
            ],
            "type": "surface"
           }
          ],
          "table": [
           {
            "cells": {
             "fill": {
              "color": "#EBF0F8"
             },
             "line": {
              "color": "white"
             }
            },
            "header": {
             "fill": {
              "color": "#C8D4E3"
             },
             "line": {
              "color": "white"
             }
            },
            "type": "table"
           }
          ]
         },
         "layout": {
          "annotationdefaults": {
           "arrowcolor": "#2a3f5f",
           "arrowhead": 0,
           "arrowwidth": 1
          },
          "autotypenumbers": "strict",
          "coloraxis": {
           "colorbar": {
            "outlinewidth": 0,
            "ticks": ""
           }
          },
          "colorscale": {
           "diverging": [
            [
             0,
             "#8e0152"
            ],
            [
             0.1,
             "#c51b7d"
            ],
            [
             0.2,
             "#de77ae"
            ],
            [
             0.3,
             "#f1b6da"
            ],
            [
             0.4,
             "#fde0ef"
            ],
            [
             0.5,
             "#f7f7f7"
            ],
            [
             0.6,
             "#e6f5d0"
            ],
            [
             0.7,
             "#b8e186"
            ],
            [
             0.8,
             "#7fbc41"
            ],
            [
             0.9,
             "#4d9221"
            ],
            [
             1,
             "#276419"
            ]
           ],
           "sequential": [
            [
             0,
             "#0d0887"
            ],
            [
             0.1111111111111111,
             "#46039f"
            ],
            [
             0.2222222222222222,
             "#7201a8"
            ],
            [
             0.3333333333333333,
             "#9c179e"
            ],
            [
             0.4444444444444444,
             "#bd3786"
            ],
            [
             0.5555555555555556,
             "#d8576b"
            ],
            [
             0.6666666666666666,
             "#ed7953"
            ],
            [
             0.7777777777777778,
             "#fb9f3a"
            ],
            [
             0.8888888888888888,
             "#fdca26"
            ],
            [
             1,
             "#f0f921"
            ]
           ],
           "sequentialminus": [
            [
             0,
             "#0d0887"
            ],
            [
             0.1111111111111111,
             "#46039f"
            ],
            [
             0.2222222222222222,
             "#7201a8"
            ],
            [
             0.3333333333333333,
             "#9c179e"
            ],
            [
             0.4444444444444444,
             "#bd3786"
            ],
            [
             0.5555555555555556,
             "#d8576b"
            ],
            [
             0.6666666666666666,
             "#ed7953"
            ],
            [
             0.7777777777777778,
             "#fb9f3a"
            ],
            [
             0.8888888888888888,
             "#fdca26"
            ],
            [
             1,
             "#f0f921"
            ]
           ]
          },
          "colorway": [
           "#636efa",
           "#EF553B",
           "#00cc96",
           "#ab63fa",
           "#FFA15A",
           "#19d3f3",
           "#FF6692",
           "#B6E880",
           "#FF97FF",
           "#FECB52"
          ],
          "font": {
           "color": "#2a3f5f"
          },
          "geo": {
           "bgcolor": "white",
           "lakecolor": "white",
           "landcolor": "#E5ECF6",
           "showlakes": true,
           "showland": true,
           "subunitcolor": "white"
          },
          "hoverlabel": {
           "align": "left"
          },
          "hovermode": "closest",
          "mapbox": {
           "style": "light"
          },
          "paper_bgcolor": "white",
          "plot_bgcolor": "#E5ECF6",
          "polar": {
           "angularaxis": {
            "gridcolor": "white",
            "linecolor": "white",
            "ticks": ""
           },
           "bgcolor": "#E5ECF6",
           "radialaxis": {
            "gridcolor": "white",
            "linecolor": "white",
            "ticks": ""
           }
          },
          "scene": {
           "xaxis": {
            "backgroundcolor": "#E5ECF6",
            "gridcolor": "white",
            "gridwidth": 2,
            "linecolor": "white",
            "showbackground": true,
            "ticks": "",
            "zerolinecolor": "white"
           },
           "yaxis": {
            "backgroundcolor": "#E5ECF6",
            "gridcolor": "white",
            "gridwidth": 2,
            "linecolor": "white",
            "showbackground": true,
            "ticks": "",
            "zerolinecolor": "white"
           },
           "zaxis": {
            "backgroundcolor": "#E5ECF6",
            "gridcolor": "white",
            "gridwidth": 2,
            "linecolor": "white",
            "showbackground": true,
            "ticks": "",
            "zerolinecolor": "white"
           }
          },
          "shapedefaults": {
           "line": {
            "color": "#2a3f5f"
           }
          },
          "ternary": {
           "aaxis": {
            "gridcolor": "white",
            "linecolor": "white",
            "ticks": ""
           },
           "baxis": {
            "gridcolor": "white",
            "linecolor": "white",
            "ticks": ""
           },
           "bgcolor": "#E5ECF6",
           "caxis": {
            "gridcolor": "white",
            "linecolor": "white",
            "ticks": ""
           }
          },
          "title": {
           "x": 0.05
          },
          "xaxis": {
           "automargin": true,
           "gridcolor": "white",
           "linecolor": "white",
           "ticks": "",
           "title": {
            "standoff": 15
           },
           "zerolinecolor": "white",
           "zerolinewidth": 2
          },
          "yaxis": {
           "automargin": true,
           "gridcolor": "white",
           "linecolor": "white",
           "ticks": "",
           "title": {
            "standoff": 15
           },
           "zerolinecolor": "white",
           "zerolinewidth": 2
          }
         }
        },
        "title": {
         "text": "Sensor Measurements"
        },
        "xaxis": {
         "autorange": true,
         "range": [
          1691613319.4428496,
          1691613330.1816437
         ],
         "title": {
          "text": "Timestamp (seconds)"
         },
         "type": "linear"
        },
        "yaxis": {
         "autorange": true,
         "range": [
          -11.016649871196561,
          11.77324452909451
         ],
         "title": {
          "text": "Value"
         },
         "type": "linear"
        }
       }
      },
      "image/png": "[encoded data removed]",
      "text/html": [
       "<div>                            <div id=\"49b1dfe3-56ca-4033-973a-77e16c106856\" class=\"plotly-graph-div\" style=\"height:525px; width:100%;\"></div>            <script type=\"text/javascript\">                require([\"plotly\"], function(Plotly) {                    window.PLOTLYENV=window.PLOTLYENV || {};                                    if (document.getElementById(\"49b1dfe3-56ca-4033-973a-77e16c106856\")) {                    Plotly.newPlot(                        \"49b1dfe3-56ca-4033-973a-77e16c106856\",                        [{\"mode\":\"lines+markers\",\"name\":\"Accelerometer X\",\"x\":[1691613320.047814,1691613321.1044433,1691613322.1562173,1691613323.2046816,1691613324.2532108,1691613325.303347,1691613326.3578448,1691613327.4784346,1691613328.5283515,1691613329.5766795],\"y\":[0.06943432986736298,0.05028003081679344,-0.10774292051792145,-0.10295435041189194,-0.8427890539169312,-9.402365684509277,0.0790114775300026,0.09577148407697678,0.13408008217811584,0.10774292051792145],\"type\":\"scatter\"},{\"mode\":\"lines+markers\",\"name\":\"Accelerometer Y\",\"x\":[1691613320.047814,1691613321.1044433,1691613322.1562173,1691613323.2046816,1691613324.2532108,1691613325.303347,1691613326.3578448,1691613327.4784346,1691613328.5283515,1691613329.5766795],\"y\":[-0.42857739329338074,-0.36393165588378906,8.418313980102539,9.91953182220459,-0.4764631390571594,0.8930690884590149,-0.4357602596282959,-0.4309716820716858,-0.4573088586330414,-0.44294312596321106],\"type\":\"scatter\"},{\"mode\":\"lines+markers\",\"name\":\"Accelerometer Z\",\"x\":[1691613320.047814,1691613321.1044433,1691613322.1562173,1691613323.2046816,1691613324.2532108,1691613325.303347,1691613326.3578448,1691613327.4784346,1691613328.5283515,1691613329.5766795],\"y\":[9.78305721282959,9.857279777526855,5.016031742095947,0.5411089062690735,10.158960342407227,2.461327075958252,9.780662536621094,9.754325866699219,9.775874137878418,9.795028686523438],\"type\":\"scatter\"}],                        {\"template\":{\"data\":{\"histogram2dcontour\":[{\"type\":\"histogram2dcontour\",\"colorbar\":{\"outlinewidth\":0,\"ticks\":\"\"},\"colorscale\":[[0.0,\"#0d0887\"],[0.1111111111111111,\"#46039f\"],[0.2222222222222222,\"#7201a8\"],[0.3333333333333333,\"#9c179e\"],[0.4444444444444444,\"#bd3786\"],[0.5555555555555556,\"#d8576b\"],[0.6666666666666666,\"#ed7953\"],[0.7777777777777778,\"#fb9f3a\"],[0.8888888888888888,\"#fdca26\"],[1.0,\"#f0f921\"]]}],\"choropleth\":[{\"type\":\"choropleth\",\"colorbar\":{\"outlinewidth\":0,\"ticks\":\"\"}}],\"histogram2d\":[{\"type\":\"histogram2d\",\"colorbar\":{\"outlinewidth\":0,\"ticks\":\"\"},\"colorscale\":[[0.0,\"#0d0887\"],[0.1111111111111111,\"#46039f\"],[0.2222222222222222,\"#7201a8\"],[0.3333333333333333,\"#9c179e\"],[0.4444444444444444,\"#bd3786\"],[0.5555555555555556,\"#d8576b\"],[0.6666666666666666,\"#ed7953\"],[0.7777777777777778,\"#fb9f3a\"],[0.8888888888888888,\"#fdca26\"],[1.0,\"#f0f921\"]]}],\"heatmap\":[{\"type\":\"heatmap\",\"colorbar\":{\"outlinewidth\":0,\"ticks\":\"\"},\"colorscale\":[[0.0,\"#0d0887\"],[0.1111111111111111,\"#46039f\"],[0.2222222222222222,\"#7201a8\"],[0.3333333333333333,\"#9c179e\"],[0.4444444444444444,\"#bd3786\"],[0.5555555555555556,\"#d8576b\"],[0.6666666666666666,\"#ed7953\"],[0.7777777777777778,\"#fb9f3a\"],[0.8888888888888888,\"#fdca26\"],[1.0,\"#f0f921\"]]}],\"heatmapgl\":[{\"type\":\"heatmapgl\",\"colorbar\":{\"outlinewidth\":0,\"ticks\":\"\"},\"colorscale\":[[0.0,\"#0d0887\"],[0.1111111111111111,\"#46039f\"],[0.2222222222222222,\"#7201a8\"],[0.3333333333333333,\"#9c179e\"],[0.4444444444444444,\"#bd3786\"],[0.5555555555555556,\"#d8576b\"],[0.6666666666666666,\"#ed7953\"],[0.7777777777777778,\"#fb9f3a\"],[0.8888888888888888,\"#fdca26\"],[1.0,\"#f0f921\"]]}],\"contourcarpet\":[{\"type\":\"contourcarpet\",\"colorbar\":{\"outlinewidth\":0,\"ticks\":\"\"}}],\"contour\":[{\"type\":\"contour\",\"colorbar\":{\"outlinewidth\":0,\"ticks\":\"\"},\"colorscale\":[[0.0,\"#0d0887\"],[0.1111111111111111,\"#46039f\"],[0.2222222222222222,\"#7201a8\"],[0.3333333333333333,\"#9c179e\"],[0.4444444444444444,\"#bd3786\"],[0.5555555555555556,\"#d8576b\"],[0.6666666666666666,\"#ed7953\"],[0.7777777777777778,\"#fb9f3a\"],[0.8888888888888888,\"#fdca26\"],[1.0,\"#f0f921\"]]}],\"surface\":[{\"type\":\"surface\",\"colorbar\":{\"outlinewidth\":0,\"ticks\":\"\"},\"colorscale\":[[0.0,\"#0d0887\"],[0.1111111111111111,\"#46039f\"],[0.2222222222222222,\"#7201a8\"],[0.3333333333333333,\"#9c179e\"],[0.4444444444444444,\"#bd3786\"],[0.5555555555555556,\"#d8576b\"],[0.6666666666666666,\"#ed7953\"],[0.7777777777777778,\"#fb9f3a\"],[0.8888888888888888,\"#fdca26\"],[1.0,\"#f0f921\"]]}],\"mesh3d\":[{\"type\":\"mesh3d\",\"colorbar\":{\"outlinewidth\":0,\"ticks\":\"\"}}],\"scatter\":[{\"fillpattern\":{\"fillmode\":\"overlay\",\"size\":10,\"solidity\":0.2},\"type\":\"scatter\"}],\"parcoords\":[{\"type\":\"parcoords\",\"line\":{\"colorbar\":{\"outlinewidth\":0,\"ticks\":\"\"}}}],\"scatterpolargl\":[{\"type\":\"scatterpolargl\",\"marker\":{\"colorbar\":{\"outlinewidth\":0,\"ticks\":\"\"}}}],\"bar\":[{\"error_x\":{\"color\":\"#2a3f5f\"},\"error_y\":{\"color\":\"#2a3f5f\"},\"marker\":{\"line\":{\"color\":\"#E5ECF6\",\"width\":0.5},\"pattern\":{\"fillmode\":\"overlay\",\"size\":10,\"solidity\":0.2}},\"type\":\"bar\"}],\"scattergeo\":[{\"type\":\"scattergeo\",\"marker\":{\"colorbar\":{\"outlinewidth\":0,\"ticks\":\"\"}}}],\"scatterpolar\":[{\"type\":\"scatterpolar\",\"marker\":{\"colorbar\":{\"outlinewidth\":0,\"ticks\":\"\"}}}],\"histogram\":[{\"marker\":{\"pattern\":{\"fillmode\":\"overlay\",\"size\":10,\"solidity\":0.2}},\"type\":\"histogram\"}],\"scattergl\":[{\"type\":\"scattergl\",\"marker\":{\"colorbar\":{\"outlinewidth\":0,\"ticks\":\"\"}}}],\"scatter3d\":[{\"type\":\"scatter3d\",\"line\":{\"colorbar\":{\"outlinewidth\":0,\"ticks\":\"\"}},\"marker\":{\"colorbar\":{\"outlinewidth\":0,\"ticks\":\"\"}}}],\"scattermapbox\":[{\"type\":\"scattermapbox\",\"marker\":{\"colorbar\":{\"outlinewidth\":0,\"ticks\":\"\"}}}],\"scatterternary\":[{\"type\":\"scatterternary\",\"marker\":{\"colorbar\":{\"outlinewidth\":0,\"ticks\":\"\"}}}],\"scattercarpet\":[{\"type\":\"scattercarpet\",\"marker\":{\"colorbar\":{\"outlinewidth\":0,\"ticks\":\"\"}}}],\"carpet\":[{\"aaxis\":{\"endlinecolor\":\"#2a3f5f\",\"gridcolor\":\"white\",\"linecolor\":\"white\",\"minorgridcolor\":\"white\",\"startlinecolor\":\"#2a3f5f\"},\"baxis\":{\"endlinecolor\":\"#2a3f5f\",\"gridcolor\":\"white\",\"linecolor\":\"white\",\"minorgridcolor\":\"white\",\"startlinecolor\":\"#2a3f5f\"},\"type\":\"carpet\"}],\"table\":[{\"cells\":{\"fill\":{\"color\":\"#EBF0F8\"},\"line\":{\"color\":\"white\"}},\"header\":{\"fill\":{\"color\":\"#C8D4E3\"},\"line\":{\"color\":\"white\"}},\"type\":\"table\"}],\"barpolar\":[{\"marker\":{\"line\":{\"color\":\"#E5ECF6\",\"width\":0.5},\"pattern\":{\"fillmode\":\"overlay\",\"size\":10,\"solidity\":0.2}},\"type\":\"barpolar\"}],\"pie\":[{\"automargin\":true,\"type\":\"pie\"}]},\"layout\":{\"autotypenumbers\":\"strict\",\"colorway\":[\"#636efa\",\"#EF553B\",\"#00cc96\",\"#ab63fa\",\"#FFA15A\",\"#19d3f3\",\"#FF6692\",\"#B6E880\",\"#FF97FF\",\"#FECB52\"],\"font\":{\"color\":\"#2a3f5f\"},\"hovermode\":\"closest\",\"hoverlabel\":{\"align\":\"left\"},\"paper_bgcolor\":\"white\",\"plot_bgcolor\":\"#E5ECF6\",\"polar\":{\"bgcolor\":\"#E5ECF6\",\"angularaxis\":{\"gridcolor\":\"white\",\"linecolor\":\"white\",\"ticks\":\"\"},\"radialaxis\":{\"gridcolor\":\"white\",\"linecolor\":\"white\",\"ticks\":\"\"}},\"ternary\":{\"bgcolor\":\"#E5ECF6\",\"aaxis\":{\"gridcolor\":\"white\",\"linecolor\":\"white\",\"ticks\":\"\"},\"baxis\":{\"gridcolor\":\"white\",\"linecolor\":\"white\",\"ticks\":\"\"},\"caxis\":{\"gridcolor\":\"white\",\"linecolor\":\"white\",\"ticks\":\"\"}},\"coloraxis\":{\"colorbar\":{\"outlinewidth\":0,\"ticks\":\"\"}},\"colorscale\":{\"sequential\":[[0.0,\"#0d0887\"],[0.1111111111111111,\"#46039f\"],[0.2222222222222222,\"#7201a8\"],[0.3333333333333333,\"#9c179e\"],[0.4444444444444444,\"#bd3786\"],[0.5555555555555556,\"#d8576b\"],[0.6666666666666666,\"#ed7953\"],[0.7777777777777778,\"#fb9f3a\"],[0.8888888888888888,\"#fdca26\"],[1.0,\"#f0f921\"]],\"sequentialminus\":[[0.0,\"#0d0887\"],[0.1111111111111111,\"#46039f\"],[0.2222222222222222,\"#7201a8\"],[0.3333333333333333,\"#9c179e\"],[0.4444444444444444,\"#bd3786\"],[0.5555555555555556,\"#d8576b\"],[0.6666666666666666,\"#ed7953\"],[0.7777777777777778,\"#fb9f3a\"],[0.8888888888888888,\"#fdca26\"],[1.0,\"#f0f921\"]],\"diverging\":[[0,\"#8e0152\"],[0.1,\"#c51b7d\"],[0.2,\"#de77ae\"],[0.3,\"#f1b6da\"],[0.4,\"#fde0ef\"],[0.5,\"#f7f7f7\"],[0.6,\"#e6f5d0\"],[0.7,\"#b8e186\"],[0.8,\"#7fbc41\"],[0.9,\"#4d9221\"],[1,\"#276419\"]]},\"xaxis\":{\"gridcolor\":\"white\",\"linecolor\":\"white\",\"ticks\":\"\",\"title\":{\"standoff\":15},\"zerolinecolor\":\"white\",\"automargin\":true,\"zerolinewidth\":2},\"yaxis\":{\"gridcolor\":\"white\",\"linecolor\":\"white\",\"ticks\":\"\",\"title\":{\"standoff\":15},\"zerolinecolor\":\"white\",\"automargin\":true,\"zerolinewidth\":2},\"scene\":{\"xaxis\":{\"backgroundcolor\":\"#E5ECF6\",\"gridcolor\":\"white\",\"linecolor\":\"white\",\"showbackground\":true,\"ticks\":\"\",\"zerolinecolor\":\"white\",\"gridwidth\":2},\"yaxis\":{\"backgroundcolor\":\"#E5ECF6\",\"gridcolor\":\"white\",\"linecolor\":\"white\",\"showbackground\":true,\"ticks\":\"\",\"zerolinecolor\":\"white\",\"gridwidth\":2},\"zaxis\":{\"backgroundcolor\":\"#E5ECF6\",\"gridcolor\":\"white\",\"linecolor\":\"white\",\"showbackground\":true,\"ticks\":\"\",\"zerolinecolor\":\"white\",\"gridwidth\":2}},\"shapedefaults\":{\"line\":{\"color\":\"#2a3f5f\"}},\"annotationdefaults\":{\"arrowcolor\":\"#2a3f5f\",\"arrowhead\":0,\"arrowwidth\":1},\"geo\":{\"bgcolor\":\"white\",\"landcolor\":\"#E5ECF6\",\"subunitcolor\":\"white\",\"showland\":true,\"showlakes\":true,\"lakecolor\":\"white\"},\"title\":{\"x\":0.05},\"mapbox\":{\"style\":\"light\"}}},\"title\":{\"text\":\"Sensor Measurements\"},\"xaxis\":{\"title\":{\"text\":\"Timestamp (seconds)\"}},\"yaxis\":{\"title\":{\"text\":\"Value\"}}},                        {\"responsive\": true}                    ).then(function(){\n",
       "                            \n",
       "var gd = document.getElementById('49b1dfe3-56ca-4033-973a-77e16c106856');\n",
       "var x = new MutationObserver(function (mutations, observer) {{\n",
       "        var display = window.getComputedStyle(gd).display;\n",
       "        if (!display || display === 'none') {{\n",
       "            console.log([gd, 'removed!']);\n",
       "            Plotly.purge(gd);\n",
       "            observer.disconnect();\n",
       "        }}\n",
       "}});\n",
       "\n",
       "// Listen for the removal of the full notebook cells\n",
       "var notebookContainer = gd.closest('#notebook-container');\n",
       "if (notebookContainer) {{\n",
       "    x.observe(notebookContainer, {childList: true});\n",
       "}}\n",
       "\n",
       "// Listen for the clearing of the current output cell\n",
       "var outputEl = gd.closest('.output');\n",
       "if (outputEl) {{\n",
       "    x.observe(outputEl, {childList: true});\n",
       "}}\n",
       "\n",
       "                        })                };                });            </script>        </div>"
      ]
     },
     "metadata": {},
     "output_type": "display_data"
    }
   ],
   "source": [
    "import bluerobotics_navigator as navigator\n",
    "import plotly.graph_objs as go\n",
    "from IPython.display import clear_output\n",
    "import time\n",
    "\n",
    "# Initialize the Navigator with factory defaults\n",
    "navigator.init()\n",
    "\n",
    "# Initialize lists to store data for plotting\n",
    "max_data_points = 10\n",
    "timestamps = []\n",
    "accelerometer_x = []\n",
    "accelerometer_y = []\n",
    "accelerometer_z = []\n",
    "\n",
    "# Set the interval for updating the plot (in seconds)\n",
    "update_interval = 1\n",
    "\n",
    "try:\n",
    "    while True:\n",
    "        # Read data from the accelerometer sensor\n",
    "        accelerometer_data = navigator.read_accel()\n",
    "\n",
    "        # Append data to the lists\n",
    "        timestamps.append(time.time())\n",
    "        accelerometer_x.append(accelerometer_data.x)\n",
    "        accelerometer_y.append(accelerometer_data.y)\n",
    "        accelerometer_z.append(accelerometer_data.z)\n",
    "\n",
    "        # Trim data to retain only the last max_data_points\n",
    "        if len(timestamps) > max_data_points:\n",
    "            timestamps.pop(0)\n",
    "            accelerometer_x.pop(0)\n",
    "            accelerometer_y.pop(0)\n",
    "            accelerometer_z.pop(0)\n",
    "\n",
    "        # Create Plotly figure\n",
    "        fig = go.Figure()\n",
    "        fig.add_trace(go.Scatter(x=timestamps, y=accelerometer_x, mode='lines+markers', name='Accelerometer X'))\n",
    "        fig.add_trace(go.Scatter(x=timestamps, y=accelerometer_y, mode='lines+markers', name='Accelerometer Y'))\n",
    "        fig.add_trace(go.Scatter(x=timestamps, y=accelerometer_z, mode='lines+markers', name='Accelerometer Z'))\n",
    "\n",
    "        # Update layout\n",
    "        fig.update_layout(\n",
    "            title='Sensor Measurements',\n",
    "            xaxis_title='Timestamp (seconds)',\n",
    "            yaxis_title='Value'\n",
    "        )\n",
    "\n",
    "        # Clear previous output and display current plot\n",
    "        clear_output(wait=True)\n",
    "        fig.show()\n",
    "\n",
    "        # Wait for the specified interval before updating the plot\n",
    "        time.sleep(update_interval)\n",
    "\n",
    "except KeyboardInterrupt:\n",
    "    pass\n"
   ]
  },
  {
   "cell_type": "markdown",
   "id": "91855330-4cdc-4a44-96e1-4b6e38abfc02",
   "metadata": {},
   "source": [
    "## Example: Control PWM output\n",
    "\n",
    "Now let's learn how to control PWM output. \n",
    "\n",
    "Please, take care when you define which PWM channel you will use and what it controls!"
   ]
  },
  {
   "cell_type": "code",
   "execution_count": 2,
   "id": "82324af8-ca06-4ebf-ac70-a214e9fd5868",
   "metadata": {},
   "outputs": [
    {
     "name": "stdout",
     "output_type": "stream",
     "text": [
      "Initial value set: 0.5\n",
      "Increasing: 0.525\n",
      "Increasing: 0.55\n",
      "Increasing: 0.575\n",
      "Increasing: 0.6\n",
      "Increasing: 0.625\n",
      "Increasing: 0.65\n",
      "Increasing: 0.675\n",
      "Increasing: 0.7\n",
      "Reached upper limit\n",
      "Decreasing: 0.675\n",
      "Decreasing: 0.65\n",
      "Decreasing: 0.625\n",
      "Decreasing: 0.6\n",
      "Decreasing: 0.575\n",
      "Decreasing: 0.55\n",
      "Decreasing: 0.525\n",
      "Decreasing: 0.5\n",
      "Decreasing: 0.475\n",
      "Decreasing: 0.45\n",
      "Decreasing: 0.425\n",
      "Decreasing: 0.4\n",
      "Decreasing: 0.375\n",
      "Decreasing: 0.35\n",
      "Decreasing: 0.325\n",
      "Decreasing: 0.3\n",
      "Reached middle value\n",
      "Increasing: 0.325\n",
      "Increasing: 0.35\n",
      "Increasing: 0.375\n",
      "Increasing: 0.4\n",
      "Increasing: 0.425\n",
      "Increasing: 0.45\n",
      "Increasing: 0.475\n",
      "Increasing: 0.5\n",
      "Reached final value\n",
      "Final value set: 0.5\n"
     ]
    }
   ],
   "source": [
    "import time\n",
    "import bluerobotics_navigator as navigator\n",
    "from bluerobotics_navigator import PwmChannel\n",
    "\n",
    "# Initialize the navigator\n",
    "navigator.init()\n",
    "navigator.set_pwm_freq_hz(1000)\n",
    "navigator.set_pwm_enable(True)\n",
    "\n",
    "# Define variables\n",
    "initial_value = 0.5\n",
    "upper_value = 0.7\n",
    "middle_value = 0.3\n",
    "final_value = 0.5\n",
    "increment = 0.025\n",
    "wait_time = 1  # seconds\n",
    "channel = # PwmChannel.Ch16 #uncomment this line to run script on Ch16\n",
    "\n",
    "# Start with an initial value\n",
    "navigator.set_pwm_channel_duty_cycle(channel, initial_value)\n",
    "print(f\"Initial value set: {initial_value}\")\n",
    "\n",
    "# Increase from initial_value to upper_value\n",
    "current_value = initial_value\n",
    "while current_value < upper_value:\n",
    "    time.sleep(wait_time)\n",
    "    current_value = round(current_value + increment, 3)\n",
    "    if current_value > upper_value:\n",
    "        current_value = upper_value\n",
    "    navigator.set_pwm_channel_duty_cycle(channel, current_value)\n",
    "    print(f\"Increasing: {current_value}\")\n",
    "    \n",
    "print(\"Reached upper limit\")\n",
    "\n",
    "# Decrease from upper_value to middle_value\n",
    "while current_value > middle_value:\n",
    "    time.sleep(wait_time)\n",
    "    current_value = round(current_value - increment, 3)\n",
    "    if current_value < middle_value:\n",
    "        current_value = middle_value\n",
    "    navigator.set_pwm_channel_duty_cycle(channel, current_value)\n",
    "    print(f\"Decreasing: {current_value}\")\n",
    "\n",
    "print(\"Reached middle value\")\n",
    "\n",
    "# Increase again from middle_value to final_value\n",
    "while current_value < final_value:\n",
    "    time.sleep(wait_time)\n",
    "    current_value = round(current_value + increment, 3)\n",
    "    if current_value > final_value:\n",
    "        current_value = final_value\n",
    "    navigator.set_pwm_channel_duty_cycle(channel, current_value)\n",
    "    print(f\"Increasing: {current_value}\")\n",
    "\n",
    "print(\"Reached final value\")\n",
    "\n",
    "# Stop at final_value\n",
    "navigator.set_pwm_channel_duty_cycle(channel, final_value)\n",
    "print(f\"Final value set: {final_value}\")"
   ]
  }
 ],
 "metadata": {
  "kernelspec": {
   "display_name": "Python 3 (ipykernel)",
   "language": "python",
   "name": "python3"
  },
  "language_info": {
   "codemirror_mode": {
    "name": "ipython",
    "version": 3
   },
   "file_extension": ".py",
   "mimetype": "text/x-python",
   "name": "python",
   "nbconvert_exporter": "python",
   "pygments_lexer": "ipython3",
   "version": "3.11.9"
  }
 },
 "nbformat": 4,
 "nbformat_minor": 5
}
