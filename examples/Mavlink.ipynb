{
 "cells": [
  {
   "cell_type": "code",
   "execution_count": null,
   "id": "f6476417-ab1c-45c3-8b8a-7c743bd875bd",
   "metadata": {},
   "outputs": [],
   "source": [
    "import time\n",
    "# Import mavutil\n",
    "from pymavlink import mavutil\n",
    "\n",
    "# Connect to default BlueOS mavlink port\n",
    "print('Waiting to connect..')\n",
    "master = mavutil.mavlink_connection('tcp:0.0.0.0:5777')\n",
    "\n",
    "print('Waiting for vehicle..')\n",
    "master.wait_heartbeat()\n",
    "\n",
    "# Get some information !\n",
    "for _ in range(10):\n",
    "    try:\n",
    "        print(master.recv_match().to_dict())\n",
    "    except:\n",
    "        pass\n",
    "    time.sleep(0.1)"
   ]
  }
 ],
 "metadata": {
  "kernelspec": {
   "display_name": "Python 3 (ipykernel)",
   "language": "python",
   "name": "python3"
  },
  "language_info": {
   "codemirror_mode": {
    "name": "ipython",
    "version": 3
   },
   "file_extension": ".py",
   "mimetype": "text/x-python",
   "name": "python",
   "nbconvert_exporter": "python",
   "pygments_lexer": "ipython3",
   "version": "3.11.5"
  }
 },
 "nbformat": 4,
 "nbformat_minor": 5
}
