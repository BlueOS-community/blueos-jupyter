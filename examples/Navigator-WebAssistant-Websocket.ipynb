{
    "cells": [
     {
      "cell_type": "markdown",
      "id": "38e4c383-2a07-4dd2-8354-bfe89640d582",
      "metadata": {},
      "source": [
       "# 🐍 Navigator and Websocket for Python! 🚀\n",
       "\n",
       "In this interactive guide, you'll learn how to use Navigator WebAssistant.\n",
       "\n",
       "Navigator WebAssistant is webserver that handle navigator-rs library and allows users to use it through web based applications.\n",
       "\n",
       "## What You'll Learn\n",
       "\n",
       "With this guide, you will learn how to:\n",
       "\n",
       "1. 🌟 Initiate your Navigator-WebAssistant\n",
       "2. 🎉 Use websocket to connect to webassistant's service\n",
       "3. 🌡️ Plot live data\n",
       "4. ⚙️ Send commands\n",
       "\n",
       "Click bellow to start it!"
      ]
     },
     {
      "cell_type": "markdown",
      "id": "137386ce-e31f-4741-b05c-b1d961a4901d",
      "metadata": {
       "jp-MarkdownHeadingCollapsed": true
      },
      "source": [
       "## 1. Initiate your Navigator-Assistant\n",
       "\n",
       "The easiest way to start using Navigator-WebAssistant, is through itself BlueOS's Extension.\n",
       "\n",
       "You can find it on:\n",
       "http://blueos.local/tools/extensions-manager\n",
       "\n",
       "Or you can download the navigator-web-assistant binary and run locally."
      ]
     },
     {
      "cell_type": "markdown",
      "id": "6a237375-4c42-42ff-a919-ce33965392de",
      "metadata": {
       "jp-MarkdownHeadingCollapsed": true
      },
      "source": [
       "## 2. Use websocket to connect to assistant's service\n",
       "\n",
       "Now with this first example you will be abble to connect to navigator-assistant and receive it's first websocket message.\n",
       "\n",
       "Please install the bellow package to use websockets."
      ]
     },
     {
      "cell_type": "code",
      "execution_count": null,
      "id": "e829d4a6-5531-4f0b-af78-fec14b4955d4",
      "metadata": {
       "scrolled": true
      },
      "outputs": [],
      "source": [
       "pip install --user websocket-client"
      ]
     },
     {
      "cell_type": "markdown",
      "id": "7d718fb6-2bac-46a8-a2e6-36d6d935bde5",
      "metadata": {},
      "source": [
       "Now you can run and check your first websocket message from Navigator-Assistant!"
      ]
     },
     {
      "cell_type": "code",
      "execution_count": null,
      "id": "e40073ef-fe7c-4b4c-97fb-1719a8fa045f",
      "metadata": {},
      "outputs": [],
      "source": [
       "import websocket\n",
       "\n",
       "def on_message(ws, message):\n",
       "    print(message)\n",
       "    wsapp.close()\n",
       "def on_error(wsapp, err):\n",
       "    print(\"Got a an error: \", err)\n",
       "\n",
       "# Change ip adress and port to yours Navigator Assitant Extension OR self running Navigator service\n",
       "wsapp = websocket.WebSocketApp(\"ws://192.168.15.200:32769/ws\",\n",
       "\n",
       "on_message = on_message,\n",
       "on_error=on_error)\n",
       "wsapp.run_forever()  "
      ]
     },
     {
      "cell_type": "markdown",
      "id": "d81dd507-2ae4-4736-99ed-aefb64f12ca1",
      "metadata": {
       "jp-MarkdownHeadingCollapsed": true
      },
      "source": [
       "## 3. Plot live data\n",
       "\n",
       "Now with this next example you will be abble to plot live data.\n",
       "The follow example is like the Navigator, but we are updating the temperature values as we receive websocket broadcast messages.\n",
       "\n",
       "Please change the stop_on_max value if you want it to continue after max value."
      ]
     },
     {
      "cell_type": "code",
      "execution_count": null,
      "id": "ffefc359-aa46-483a-84f6-c70a76067ebd",
      "metadata": {},
      "outputs": [],
      "source": [
       "import websocket\n",
       "import json\n",
       "import plotly.graph_objs as go\n",
       "from IPython.display import display, clear_output\n",
       "\n",
       "# Initialize empty lists to store the data for the graph\n",
       "max_data_points = 10\n",
       "timestamps = []\n",
       "temperatures = []\n",
       "\n",
       "# Change this to have \n",
       "stop_on_max= True\n",
       "\n",
       "# WebSocket message handler\n",
       "def on_message(ws, message):\n",
       "    data = json.loads(message)\n",
       "    if 'input' in data and data['input']:\n",
       "        for entry in data['input']:\n",
       "            if entry['type'] == 'Temperature':\n",
       "                \n",
       "                timestamps.append(data['timestamp'])\n",
       "                temperatures.append(entry['value'])\n",
       "\n",
       "                if len(timestamps) > max_data_points:\n",
       "                    timestamps.pop(0)\n",
       "                    temperatures.pop(0)\n",
       "                    if stop_on_max : ws.close()\n",
       "\n",
       "                # Create a Plotly figure\n",
       "                figure = go.Figure()\n",
       "                \n",
       "                # Set layout options\n",
       "                figure.update_layout(\n",
       "                    title='Real-time Temperature Graph',\n",
       "                    xaxis_title='Timestamp',\n",
       "                    yaxis_title='Temperature (°C)'\n",
       "                )\n",
       "\n",
       "                figure.add_trace(go.Scatter(x=timestamps, y=temperatures, mode='lines+markers'))\n",
       "                \n",
       "                # Clear the output to update the graph in the Jupyter Notebook\n",
       "                clear_output(wait=True)\n",
       "                display(figure)\n",
       "\n",
       "# WebSocket connection\n",
       "ws = websocket.WebSocketApp(\"ws://192.168.15.200:32769/ws\",\n",
       "                            on_message=on_message)\n",
       "\n",
       "# Start WebSocket connection\n",
       "ws.run_forever()\n"
      ]
     },
     {
      "cell_type": "markdown",
      "id": "080c0f57-2561-4b77-b907-ea85dfbaefdc",
      "metadata": {
       "jp-MarkdownHeadingCollapsed": true
      },
      "source": [
       "## 4. Send commands\n",
       "\n",
       "Now this example use a different aproach to handle the websocket connection.\n",
       "\n",
       "Notice that we used a regex filter, the websocket connection allows this.\n",
       "\n",
       "So, websocket will broadcast only messages containing \"output\" on it's body."
      ]
     },
     {
      "cell_type": "code",
      "execution_count": null,
      "id": "86b94490-a358-44bc-bad2-fc1041cf662d",
      "metadata": {},
      "outputs": [],
      "source": [
       "from websocket import create_connection\n",
       "import time\n",
       "\n",
       "# Change the IP address and port to your WebSocket server\n",
       "ws = create_connection(\"ws://192.168.15.200:32769/ws?filter=output\")\n",
       "\n",
       "# Send a message to the WebSocket server\n",
       "message_to_send = '/output/userled/{ \"userled\": \"Led1\", \"value\": true }'\n",
       "ws.send(message_to_send)\n",
       "\n",
       "print(\"Every webscoket request receive this message:\\n\")\n",
       "print(ws.recv())\n",
       "print(\"\\nFollowed by the broadcasted request:\\n\")\n",
       "print(ws.recv())\n",
       "\n",
       "\n",
       "print(\"\\nNow it will change the userled states for 1 minute.\")\n",
       "\n",
       "# LED names and true/false values to iterate through\n",
       "leds = [\"Led1\", \"Led2\", \"Led3\"]\n",
       "states = [True, False]\n",
       "\n",
       "# Start time\n",
       "start_time = time.time()\n",
       "\n",
       "# Run for 1 minute (60 seconds)\n",
       "while time.time() - start_time < 60:\n",
       "    # Iterate through LED names and states\n",
       "    for led in leds:\n",
       "        for state in states:\n",
       "            message_to_send = f\"/output/userled/{led}/{str(state).lower()}\"\n",
       "            ws.send(message_to_send)\n",
       "            time.sleep(0.5)  #\n",
       "        \n",
       "ws.close()"
      ]
     }
    ],
    "metadata": {
     "kernelspec": {
      "display_name": "Python 3 (ipykernel)",
      "language": "python",
      "name": "python3"
     },
     "language_info": {
      "codemirror_mode": {
       "name": "ipython",
       "version": 3
      },
      "file_extension": ".py",
      "mimetype": "text/x-python",
      "name": "python",
      "nbconvert_exporter": "python",
      "pygments_lexer": "ipython3",
      "version": "3.11.5"
     }
    },
    "nbformat": 4,
    "nbformat_minor": 5
   }